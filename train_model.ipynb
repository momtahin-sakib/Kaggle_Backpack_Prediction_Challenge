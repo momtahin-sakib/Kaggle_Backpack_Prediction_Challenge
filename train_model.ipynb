{
 "cells": [
  {
   "cell_type": "code",
   "execution_count": 3,
   "metadata": {},
   "outputs": [],
   "source": [
    "import numpy as np\n",
    "import pandas as pd\n",
    "from sklearn.preprocessing import StandardScaler, OrdinalEncoder\n",
    "from sklearn.compose import ColumnTransformer\n",
    "from sklearn.pipeline import Pipeline\n",
    "from sklearn.metrics import mean_squared_error\n",
    "from sklearn.linear_model import LinearRegression \n",
    "from sklearn.impute import SimpleImputer\n",
    "import dtale"
   ]
  },
  {
   "cell_type": "code",
   "execution_count": 4,
   "metadata": {},
   "outputs": [],
   "source": [
    "train= pd.read_csv('/home/momtahin/Documents/Backpack Prediction Challenge/data/train.csv')\n",
    "train_extra= pd.read_csv('/home/momtahin/Documents/Backpack Prediction Challenge/data/training_extra.csv')\n",
    "test= pd.read_csv('/home/momtahin/Documents/Backpack Prediction Challenge/data/test.csv')"
   ]
  },
  {
   "cell_type": "code",
   "execution_count": 5,
   "metadata": {},
   "outputs": [],
   "source": [
    "# dt = dtale.show(train)\n",
    "# dte = dtale.show(train_extra)\n",
    "# dtest = dtale.show(test)\n",
    "# dt.open_browser()\n",
    "# dte.open_browser()\n",
    "# dtest.open_browser()"
   ]
  },
  {
   "cell_type": "code",
   "execution_count": 6,
   "metadata": {},
   "outputs": [],
   "source": [
    "# Concating train and train_extra \n",
    "\n",
    "train = pd.concat([train, train_extra], ignore_index=True)\n",
    "\n",
    "# concat: https://pandas.pydata.org/docs/reference/api/pandas.concat.html#pandas-concat"
   ]
  },
  {
   "cell_type": "code",
   "execution_count": 7,
   "metadata": {},
   "outputs": [
    {
     "name": "stdout",
     "output_type": "stream",
     "text": [
      "<class 'pandas.core.frame.DataFrame'>\n",
      "RangeIndex: 3994318 entries, 0 to 3994317\n",
      "Data columns (total 11 columns):\n",
      " #   Column                Dtype  \n",
      "---  ------                -----  \n",
      " 0   id                    int64  \n",
      " 1   Brand                 object \n",
      " 2   Material              object \n",
      " 3   Size                  object \n",
      " 4   Compartments          float64\n",
      " 5   Laptop Compartment    object \n",
      " 6   Waterproof            object \n",
      " 7   Style                 object \n",
      " 8   Color                 object \n",
      " 9   Weight Capacity (kg)  float64\n",
      " 10  Price                 float64\n",
      "dtypes: float64(3), int64(1), object(7)\n",
      "memory usage: 335.2+ MB\n"
     ]
    }
   ],
   "source": [
    "train.info()"
   ]
  },
  {
   "cell_type": "code",
   "execution_count": 8,
   "metadata": {},
   "outputs": [
    {
     "name": "stdout",
     "output_type": "stream",
     "text": [
      "<class 'pandas.core.frame.DataFrame'>\n",
      "RangeIndex: 200000 entries, 0 to 199999\n",
      "Data columns (total 10 columns):\n",
      " #   Column                Non-Null Count   Dtype  \n",
      "---  ------                --------------   -----  \n",
      " 0   id                    200000 non-null  int64  \n",
      " 1   Brand                 193773 non-null  object \n",
      " 2   Material              194387 non-null  object \n",
      " 3   Size                  195619 non-null  object \n",
      " 4   Compartments          200000 non-null  float64\n",
      " 5   Laptop Compartment    195038 non-null  object \n",
      " 6   Waterproof            195189 non-null  object \n",
      " 7   Style                 194847 non-null  object \n",
      " 8   Color                 193215 non-null  object \n",
      " 9   Weight Capacity (kg)  199923 non-null  float64\n",
      "dtypes: float64(2), int64(1), object(7)\n",
      "memory usage: 15.3+ MB\n"
     ]
    }
   ],
   "source": [
    "test.info()"
   ]
  },
  {
   "cell_type": "code",
   "execution_count": 9,
   "metadata": {},
   "outputs": [],
   "source": [
    "from sklearn.model_selection import train_test_split\n",
    "X_train,X_test,y_train,y_test= train_test_split(train.drop(columns='Price'),train['Price'],test_size=0.1)"
   ]
  },
  {
   "cell_type": "code",
   "execution_count": 10,
   "metadata": {},
   "outputs": [],
   "source": [
    "cat_cols = train.select_dtypes(include='object').columns.to_list()\n",
    "\n",
    "# select_dtypes: https://pandas.pydata.org/docs/reference/api/pandas.DataFrame.select_dtypes.html#pandas-dataframe-select-dtypes\n",
    "# t_list(): https://pandas.pydata.org/docs/reference/api/pandas.Series.to_list.html#pandas.Series.to_list"
   ]
  },
  {
   "cell_type": "code",
   "execution_count": 11,
   "metadata": {},
   "outputs": [],
   "source": [
    "# Define numeric pipeline\n",
    "num_pipeline = Pipeline(steps=[\n",
    "    ('scaler', StandardScaler()),\n",
    "    ('imputer', SimpleImputer(missing_values=np.nan, strategy='mean'))\n",
    "])\n",
    "\n",
    "# Define categorical pipeline\n",
    "cat_pipeline = Pipeline(steps=[\n",
    "    ('encoder', OrdinalEncoder()),\n",
    "    ('imputer', SimpleImputer(missing_values=np.nan, strategy='most_frequent'))\n",
    "])\n",
    "\n",
    "# Combining num_pipeline & cat_pipeline\n",
    "preprocessor = ColumnTransformer(\n",
    "    transformers=[\n",
    "        ('num_pipeline', num_pipeline, ['Compartments','Weight Capacity (kg)']),\n",
    "        ('cat_pipeline', cat_pipeline, cat_cols)\n",
    "])\n",
    "\n",
    "\n",
    "# Final pipeline\n",
    "final_pipeline = Pipeline(steps=[\n",
    "    ('preprocessor', preprocessor),\n",
    "    ('model', LinearRegression())\n",
    "])\n",
    "\n",
    "\n",
    "\n",
    "# Fit the pipeline on the training set\n",
    "final_pipeline.fit(X_train, y_train)\n",
    "\n",
    "# Test set predictions\n",
    "y_pred = final_pipeline.predict(X_test)\n",
    "\n",
    "\n",
    "\n",
    "# ColumnTransformer: https://scikit-learn.org/stable/modules/generated/sklearn.compose.ColumnTransformer.html#columntransformer\n"
   ]
  },
  {
   "cell_type": "code",
   "execution_count": 12,
   "metadata": {},
   "outputs": [
    {
     "name": "stdout",
     "output_type": "stream",
     "text": [
      "Mean Squared Error: 1515.5642900472717\n",
      "Root Mean Squared Error: 38.93024903654319\n"
     ]
    }
   ],
   "source": [
    "mse = mean_squared_error(y_test, y_pred)\n",
    "rmse = np.sqrt(mse)\n",
    "print(f'Mean Squared Error: {mse}')\n",
    "print(f'Root Mean Squared Error: {rmse}')"
   ]
  },
  {
   "cell_type": "code",
   "execution_count": 13,
   "metadata": {},
   "outputs": [],
   "source": [
    "predictions = final_pipeline.predict(test)\n",
    "\n",
    "\n",
    "submission = pd.DataFrame({\n",
    "    'id': test['id'],\n",
    "    'Price': predictions\n",
    "})\n",
    "\n",
    "submission.to_csv('/home/momtahin/Documents/Backpack Prediction Challenge/submission.csv', index=False)"
   ]
  }
 ],
 "metadata": {
  "kernelspec": {
   "display_name": ".venv",
   "language": "python",
   "name": "python3"
  },
  "language_info": {
   "codemirror_mode": {
    "name": "ipython",
    "version": 3
   },
   "file_extension": ".py",
   "mimetype": "text/x-python",
   "name": "python",
   "nbconvert_exporter": "python",
   "pygments_lexer": "ipython3",
   "version": "3.10.12"
  }
 },
 "nbformat": 4,
 "nbformat_minor": 2
}
